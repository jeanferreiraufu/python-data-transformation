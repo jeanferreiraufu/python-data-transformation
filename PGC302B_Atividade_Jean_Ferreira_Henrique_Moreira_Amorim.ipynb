{
  "nbformat": 4,
  "nbformat_minor": 0,
  "metadata": {
    "colab": {
      "provenance": [],
      "collapsed_sections": [
        "4YrQoL4p7RjB",
        "UmF6pgVXugc1"
      ],
      "include_colab_link": true
    },
    "kernelspec": {
      "name": "python3",
      "display_name": "Python 3"
    },
    "language_info": {
      "name": "python"
    }
  },
  "cells": [
    {
      "cell_type": "markdown",
      "metadata": {
        "id": "view-in-github",
        "colab_type": "text"
      },
      "source": [
        "<a href=\"https://colab.research.google.com/github/jeanferreiraufu/python-data-transformation/blob/develop/PGC302B_Atividade_Jean_Ferreira_Henrique_Moreira_Amorim.ipynb\" target=\"_parent\"><img src=\"https://colab.research.google.com/assets/colab-badge.svg\" alt=\"Open In Colab\"/></a>"
      ]
    },
    {
      "cell_type": "markdown",
      "source": [
        "# Atividade Curricular da Disciplina PGC302B**\n",
        "\n",
        "*   Disciplina: Sistemas para Processamento Multimídia\n",
        "*   Professor: Dr. Marcelo Zanchetta do Nascimento\n",
        "*   Discentes: Jean Carlo Alves Ferreira e Henrique Moreira Amorim.\n",
        "*   Universidade Federal de Uberlândia\n",
        "*   Programa de Pós-Graduação em Computação"
      ],
      "metadata": {
        "id": "4YrQoL4p7RjB"
      }
    },
    {
      "cell_type": "markdown",
      "source": [
        "**Especificação do Problema:**\n",
        "\n",
        "O objetivo deste trabalho é analisar os métodos empregados em etapas de processamento da mídia imagem. Vamos analisar as estratégias empregadas na etapa de segmentação e extração de características das imagens. Será investigado o método mais robusto para a etapa de segmentação baseado em segmentação por similaridade. Em seguida, explorado um algoritmo de extração de características baseado em propriedades de textura. As implementações devem ocorrer em ambiente Google CoLab com a linguagem de programação Python.\n",
        "\n",
        "$\\space$\n",
        "$\\space$\n",
        "\n",
        "\n",
        "**Dataset**\n",
        "\n",
        "O dataset que iremos empregar neste estudo foi proposto por Ghaderzadeh, M, Aria, M, Hosseini, A, Asadi, F, Bashash, D, Abolghasemi, H. A fast and efficient CNN model for B-ALL diagnosis and its subtypes classification using peripheral blood smear images. Int J Intell Syst. 2022; 37: 5113- 5133. doi:10.1002/int.22753.\n",
        "\n",
        "As imagens desse conjunto de dados foram preparadas no laboratório de medula óssea do Hospital Taleqani (Teerã). Esse conjunto de dados consiste em 3.256 imagens de manchas de sangue periférico (PBS) de 89 pacientes com suspeita de leucemia linfoblástica aguda (LLA), cujas amostras de sangue foram preparadas e coradas por uma equipe de laboratório. Esse conjunto de dados foi dividido em duas classes: benigna e maligna. A primeira compreende hematogônias que se assemelham muito aos casos de LLA, entretanto, essa célula precursora hematopoiética é benigna, não requer quimioterapia. O grupo de LLA com três subtipos de linfoblastos malignos: LLA pré-B inicial, pré-B e pró-B. Todas as imagens foram obtidas com uma câmera Zeiss em um microscópio com ampliação de 100 vezes e salvas como arquivos JPG. Um especialista que utilizou a ferramenta de citometria de fluxo fez a marcação do padrão ouro dos tipos e subtipos dessas células.\n",
        "\n",
        "O dataset esta disponível no link: https://www.kaggle.com/datasets/mehradaria/leukemia/data.\n",
        "\n",
        "$\\space$\n",
        "$\\space$\n",
        "\n",
        "\n",
        "**Segmentação**\n",
        "\n",
        "Em nossa disciplina, apresentamos técnicas de segmentação baseadas em similiaridade (thresholding - limiarização) para processos sobre a mídia imagem.\n",
        "\n",
        "1) Implemente um programa para segmentação de imagens baseado em limiarização adaptativa local para separação dos objetos em relação a região de fundo. Procure explorar os modelos de cores (RGB, HSV, etc) para investigar o desempenho sobre os diferentes modelos. O código desse algoritmo deve ser implementado sem usar funções disponíveis em bibliotecas da linguagem.\n",
        "\n",
        "2) Em seguida, usando a biblioteca OpenCV, faça a implementação da limiarização de Otsu. Faça uma investigação sobre diferentes bibliotecas Python para processamento de imagem e escolha duas outras técnicas de limiarização disponíveis para uma comparação entre os métodos.\n",
        "\n",
        "3) Faça a aplicação das diversas técnicas sobre o conjunto de imagens proposto para o estudo.\n",
        "\n",
        "4) Avalie os resultados em relação as máscaras disponíveis na pasta \"Segmented\". Obtenha os valores das métricas IoU (Intersection over Union) e coeficiente Dice usadas em segmentação.\n",
        "\n",
        "A métrica IoU mede a sobreposição entre a área prevista e a área real:\n",
        "\n",
        "$\\text{IoU} = \\frac{|A \\cap B|}{|A \\cup B|}$\n",
        "\n",
        "Onde:\n",
        "𝐴 - é o conjunto de pixels da segmentação prevista, 𝐵 - é o conjunto de pixels da segmentação verdadeira, ∩ - representa a interseção dos conjuntos e ∪ - representa a união dos conjuntos.\n",
        "\n",
        "O coeficiente de Dice mede a similaridade entre dois conjuntos, o qual é dado por:\n",
        "\n",
        "$\\text{Dice} = \\frac{2 |A \\cap B|}{|A| + |B|}$\n",
        "\n",
        "Onde: 𝐴 - é o conjunto de pixels da segmentação prevista, 𝐵 - é o conjunto de pixels da segmentação verdadeira e ∩ representa a interseção dos conjuntos.\n",
        "\n",
        "5) Use técnicas estatísticas que quantificam o desempenho dos modelos de segmentação para uma comparação dos resultados. Para as comparações entre modelos, você pode usar os intervalos de confiança ou ANOVA. Também pode ser considerado os testes não paramétricos (Wilcoxon, Mann-Whitney).\n",
        "\n",
        "$\\space$\n",
        "$\\space$\n",
        "\n",
        "**Extração de Características**\n",
        "\n",
        "6) Crie um programa que leia as imagens do dataset sem segmentação e calcule a matriz de coocorrência numa representação de 256 níveis de intensidades. Como as imagens estão em RGB faça a conversão para níveis de cinza. Use as orientações de 0, 45, 90 e 135 graus com d = 1, d = 2, d = 3 e d = 4. Calcule a média e o desvio padrão das matrizes.\n",
        "\n",
        "7) Utilize as matrizes de coocorrência e calcule 5 principais descritores propostos por Haralick.\n",
        "\n",
        "8) Faça uma análise de similaridade entre as classes investigadas por meio de características extraídas com os descritores e a variação de parametrização. Para essa análise, use a similaridade de Jaccard e o coeficiente de correlação de Pearson.\n",
        "\n",
        "A similaridade de Jaccard pode ser aplicada diretamente se você tratar os descritores de Haralick como conjuntos de valores binarizados ou discreto:\n",
        "\n",
        "$J(A, B) = \\frac{|A \\cap B|}{|A \\cup B|}$\n",
        "\n",
        "onde: ∣A∩B∣∣A∩B∣ é o tamanho da interseção entre AA e BB, e ∣A∪B∣∣A∪B∣ é o tamanho da união dos conjuntos AA e BB.\n",
        "\n",
        "coeficiente de correlação de Pearson:\n",
        "\n",
        "$ r = \\frac{\\sum_{i=1}^{n}(x_i - \\bar{x})(y_i - \\bar{y})}{\\sqrt{\\sum_{i=1}^{n}(x_i - \\bar{x})^2}\\sqrt{\\sum_{i=1}^{n}(y_i - \\bar{y})^2}}$\n",
        "\n",
        "onde, x e y são as duas variáveis, n é o número de observações, x̄ e ȳ são as médias de x e y, respectivamente.\n",
        "\n",
        "9) Discuta os resultados e as observações em relação as variações de parâmetros e a representação pela técnica para as classes investigadas.\n",
        "\n",
        "10) Repita esses experimentos sobre as imagens segmentadas com a melhor resultado da técnica de segmentação obtida na etapa 5). Avalie o comportamento dos descritores com informações segmentadas. Faça discussões semelhantes as observações obtidas na questão 9) com as imagens segmentadas.\n",
        "\n",
        "\n",
        "$\\space$\n",
        "$\\space$\n",
        "\n",
        "\n",
        "**Entrega**\n",
        "\n",
        "\n",
        "O trabalho deve ser submetido por meio da plataforma Microsoft Teams.\n",
        "\n",
        "Data de entrega: **23/10/2024**\n",
        "\n",
        "Essa atividade pode ser realizada em grupos de dois estudantes, os quais deverão submeter o relatório pela plataforma Teams.\n",
        "\n",
        "A entrega do trabalho deve conter os seguintes itens:\n",
        "* codigo-fonte: o arquivo final deve estar no formato .zip ou no formato tgz, contendo todos os programas ou dados necessarios para sua execução. Também deve ter um cabeçalho com os dados dos estudantes (Nome e Matrícula).\n",
        "* relatorio: deve conter uma descrição dos algoritmos e das estruturas de dados, considerações adotadas na solução do problema, testes executados, eventuais limitações ou situações especiais não explorada pelo programa.\n"
      ],
      "metadata": {
        "id": "LH54jwws8rF9"
      }
    },
    {
      "cell_type": "markdown",
      "source": [
        "# Exercício 1 - Proposta\n",
        "\n",
        "\n",
        "1.   A segmentação adaptativa no espaço HSV mostrou-se a mais promissora, especialmente quando aplicada no canal de brilho V.\n",
        "2.   A extração de características de textura, especialmente via GLCM, é essencial para avaliar a precisão da segmentação e ajudar na classificação das células.\n",
        "3.   A combinação de diferentes espaços de cores (HSV, YUV, RGB) oferece uma abordagem robusta para lidar com variações de iluminação e cor nas imagens.\n",
        "4.   A avaliação baseada em métricas como IoU e F1-score garante a validação da qualidade da segmentação e da extração de características."
      ],
      "metadata": {
        "id": "UmF6pgVXugc1"
      }
    },
    {
      "cell_type": "code",
      "source": [
        "import os\n",
        "os.kill(os.getpid(), 9)"
      ],
      "metadata": {
        "id": "osg38hHH-3Ti"
      },
      "execution_count": null,
      "outputs": []
    },
    {
      "cell_type": "markdown",
      "source": [
        "* Passo 1: Carregar o Dataset\n",
        "\n",
        "Etapas para baixar o dataset do Kakgle:\n",
        "Obter o kaggle.json:\n",
        "\n",
        "Acesse sua conta no Kaggle, vá até \"My Account\", e role até a seção \"API\".\n",
        "Clique em \"Create New API Token\". Isso fará o download do arquivo kaggle.json contendo suas credenciais.\n",
        "Carregar o arquivo kaggle.json no Google Colab:\n",
        "\n",
        "No Google Colab, você pode carregar o arquivo kaggle.json clicando em \"Arquivos\" (na barra lateral) e depois em \"Upload\". Selecione o arquivo kaggle.json que você baixou.\n",
        "Corrigir o caminho e permissões para o kaggle.json:\n",
        "\n",
        "Após o upload, você precisa mover o arquivo para o diretório correto."
      ],
      "metadata": {
        "id": "Ju9x0edEvKIb"
      }
    },
    {
      "cell_type": "code",
      "source": [
        "# Upload manual do kaggle.json\n",
        "from google.colab import files\n",
        "files.upload()  # Faça o upload do arquivo kaggle.json que foi baixado do Kaggle\n",
        "\n",
        "# Mover o kaggle.json para o diretório correto\n",
        "!mkdir -p ~/.kaggle\n",
        "!mv kaggle.json ~/.kaggle/\n",
        "\n",
        "# Definir permissões corretas\n",
        "!chmod 600 ~/.kaggle/kaggle.json\n",
        "\n",
        "# Baixar o dataset do Kaggle\n",
        "!kaggle datasets download -d mehradaria/leukemia\n",
        "\n",
        "# Descompactar o arquivo baixado\n",
        "!unzip leukemia.zip -d leukemia_dataset\n"
      ],
      "metadata": {
        "id": "RGjAngUAvSTX",
        "collapsed": true
      },
      "execution_count": null,
      "outputs": []
    },
    {
      "cell_type": "markdown",
      "source": [
        "* Passo 2: Importar as Bibliotecas Necessárias"
      ],
      "metadata": {
        "id": "kdDAMCajvXa1"
      }
    },
    {
      "cell_type": "code",
      "source": [
        "# Instalar bibliotecas necessárias para processamento de imagens\n",
        "!pip install opencv-python-headless\n",
        "!pip install scikit-image\n",
        "!pip install matplotlib\n"
      ],
      "metadata": {
        "id": "Ka94hV404bUi"
      },
      "execution_count": null,
      "outputs": []
    },
    {
      "cell_type": "code",
      "source": [
        "import numpy as np  # NumPy para operações matriciais\n",
        "import matplotlib.pyplot as plt  # Matplotlib para visualização\n",
        "import pandas as pd  # Pandas para visualização data frame\n",
        "\n",
        "# Para extração de características de textura\n",
        "from skimage.feature import graycomatrix # Corrected function name to graycomatrix\n",
        "from skimage.feature import graycoprops # Corrected function name to graycoprops\n",
        "from skimage.color import rgb2gray\n",
        "from skimage import img_as_ubyte\n",
        "\n"
      ],
      "metadata": {
        "id": "txTAVuCvvakz"
      },
      "execution_count": null,
      "outputs": []
    },
    {
      "cell_type": "code",
      "source": [
        "import os\n",
        "files=[]\n",
        "paths = []\n",
        "for dirname, _, filenames in os.walk('leukemia_dataset/Original'):\n",
        "    for filename in filenames:\n",
        "        path = os.path.join(dirname, filename)\n",
        "        paths.append(path)\n",
        "        files.append(filename)\n",
        "\n",
        "mpaths = []\n",
        "for dirname, _, filenames in os.walk('leukemia_dataset/Segmented'):\n",
        "    for filename in filenames:\n",
        "        path = os.path.join(dirname, filename)\n",
        "        mpaths.append(path)\n",
        "\n",
        "df0=pd.DataFrame(columns=['file','path','mpath'])\n",
        "df0['file']=sorted(files)\n",
        "df0['path']=sorted(paths)\n",
        "df0['mpath']=sorted(mpaths)\n",
        "display(df0)\n",
        "df=df0.iloc[0:len(df0)//2]\n",
        "test_df=df0.iloc[len(df0)//2:]\n",
        "\n",
        "\n"
      ],
      "metadata": {
        "id": "0UpZ3ZglMyhc"
      },
      "execution_count": null,
      "outputs": []
    },
    {
      "cell_type": "markdown",
      "source": [
        "* Passo 3: Implementar a Segmentação por Limiarização Adaptativa\n",
        "A segmentação será realizada no canal V do espaço de cor HSV.\n",
        "\n",
        "Vamos implementar a limiarização adaptativa localmente.\n",
        "\n",
        "    ** Conversão de RGB para HSV\n",
        "        O espaço de cor HSV (Matiz, Saturação e Valor) é uma representação alternativa ao RGB (Vermelho, Verde e Azul) que facilita a compreensão das cores em termos de seu tom (matiz), intensidade (valor) e saturação. A conversão entre os espaços de cor RGB e HSV pode ser feita em etapas matemáticas.\n",
        "\n",
        "        Função rgb_to_hsv(r, g, b): Converte os valores RGB para o espaço de cor HSV.\n",
        "\n",
        "    Esse código não utiliza bibliotecas como OpenCV, calculando a conversão entre os dois espaços de cor apenas com operações matemáticas básicas."
      ],
      "metadata": {
        "id": "T7QIQB6YvkH6"
      }
    },
    {
      "cell_type": "code",
      "source": [
        "def rgb_to_hsv(r, g, b):\n",
        "    # Normalizar os valores de R, G, B para [0, 1]\n",
        "    r_prime, g_prime, b_prime = r / 255.0, g / 255.0, b / 255.0\n",
        "\n",
        "    # Encontrar o máximo e o mínimo entre os valores normalizados\n",
        "    c_max = max(r_prime, g_prime, b_prime)\n",
        "    c_min = min(r_prime, g_prime, b_prime)\n",
        "    delta = c_max - c_min\n",
        "\n",
        "    # Valor (V)\n",
        "    v = c_max\n",
        "\n",
        "    # Saturação (S)\n",
        "    s = 0 if c_max == 0 else delta / c_max\n",
        "\n",
        "    # Matiz (H)\n",
        "    if delta == 0:\n",
        "        h = 0\n",
        "    elif c_max == r_prime:\n",
        "        h = 60 * (((g_prime - b_prime) / delta) % 6)\n",
        "    elif c_max == g_prime:\n",
        "        h = 60 * (((b_prime - r_prime) / delta) + 2)\n",
        "    elif c_max == b_prime:\n",
        "        h = 60 * (((r_prime - g_prime) / delta) + 4)\n",
        "\n",
        "    if h < 0:\n",
        "        h += 360\n",
        "\n",
        "    return h, s, v\n",
        "\n",
        "# Função para aplicar a limiarização adaptativa\n",
        "def adaptive_threshold_segmentation_hsv(v_channel, block_size=15, c=2):\n",
        "    padded_image = np.pad(v_channel, block_size // 2, mode='reflect')\n",
        "    thresholded_image = np.zeros_like(v_channel)\n",
        "    for i in range(v_channel.shape[0]):\n",
        "        for j in range(v_channel.shape[1]):\n",
        "            local_region = padded_image[i:i + block_size, j:j + block_size]\n",
        "            local_mean = np.mean(local_region)\n",
        "            threshold = local_mean - c\n",
        "            thresholded_image[i, j] = 255 if v_channel[i, j] > threshold else 0\n",
        "    return thresholded_image\n",
        "\n",
        "# Carregar a imagem usando PIL\n",
        "image_path = 'leukemia_dataset/Original/Benign/WBC-Benign-001.jpg'  # Exemplo de uma imagem\n",
        "image = Image.open(image_path)\n",
        "image_rgb = np.array(image)\n",
        "\n",
        "# Converter a imagem para o espaço de cor HSV e escalar o canal V para o intervalo [0, 255]\n",
        "hsv_image = np.zeros_like(image_rgb, dtype=float)\n",
        "for i in range(image_rgb.shape[0]):\n",
        "    for j in range(image_rgb.shape[1]):\n",
        "        r, g, b = image_rgb[i, j]\n",
        "        h, s, v = rgb_to_hsv(r, g, b)\n",
        "        hsv_image[i, j] = [h, s, v * 255]  # Multiplicar o canal V por 255\n",
        "\n",
        "# Extrair o canal V (brilho)\n",
        "v_channel = hsv_image[:, :, 2]\n",
        "\n",
        "# Aplicar a limiarização adaptativa no canal V\n",
        "segmented_image_hsv = adaptive_threshold_hsv(v_channel)\n",
        "\n",
        "# Exibir a imagem original e a segmentada\n",
        "plt.figure(figsize=(10, 5))\n",
        "plt.subplot(1, 2, 1)\n",
        "plt.imshow(image_rgb)\n",
        "plt.title('Imagem Original')\n",
        "plt.axis('off')\n",
        "\n",
        "plt.subplot(1, 2, 2)\n",
        "plt.imshow(segmented_image_hsv, cmap='gray')\n",
        "plt.title('Imagem Segmentada (HSV)')\n",
        "plt.axis('off')\n",
        "\n",
        "plt.show()\n"
      ],
      "metadata": {
        "id": "8Kx0J8uhvdyW"
      },
      "execution_count": null,
      "outputs": []
    },
    {
      "cell_type": "markdown",
      "source": [
        "    Função rgb_to_yuv(r, g, b): Converte os valores RGB para o espaço de cor YUV."
      ],
      "metadata": {
        "id": "UmFAgYmobLnx"
      }
    },
    {
      "cell_type": "code",
      "source": [
        "# Função para converter RGB para YUV\n",
        "def rgb_to_yuv(r, g, b):\n",
        "    y = 0.299 * r + 0.587 * g + 0.114 * b\n",
        "    u = -0.14713 * r - 0.28886 * g + 0.436 * b\n",
        "    v = 0.615 * r - 0.51499 * g - 0.10001 * b\n",
        "    return y, u, v\n",
        "\n",
        "# Converter a imagem para o espaço de cor YUV\n",
        "def convert_image_rgb_to_yuv(image_rgb):\n",
        "  yuv_image = np.zeros_like(image_rgb, dtype=float)\n",
        "  for i in range(image_rgb.shape[0]):\n",
        "      for j in range(image_rgb.shape[1]):\n",
        "          r, g, b = image_rgb[i, j]\n",
        "          y, u, v = rgb_to_yuv(r, g, b)\n",
        "          yuv_image[i, j] = [y, u, v]\n",
        "\n",
        "  # Extrair o canal Y (luminância)\n",
        "  y_channel = yuv_image[:, :, 0]\n",
        "  return y_channel\n",
        "\n",
        "# Função para aplicar a limiarização adaptativa\n",
        "def adaptive_threshold_segmentation_yuv(image_rgb, block_size=15, c=2):\n",
        "    y_channel = convert_image_rgb_to_yuv(image_rgb)\n",
        "    padded_image = np.pad(y_channel, block_size // 2, mode='reflect')\n",
        "    thresholded_image = np.zeros_like(y_channel)\n",
        "    for i in range(y_channel.shape[0]):\n",
        "        for j in range(y_channel.shape[1]):\n",
        "            local_region = padded_image[i:i + block_size, j:j + block_size]\n",
        "            local_mean = np.mean(local_region)\n",
        "            threshold = local_mean - c\n",
        "            thresholded_image[i, j] = 255 if y_channel[i, j] > threshold else 0\n",
        "    return thresholded_image\n",
        "\n",
        "# Carregar a imagem usando PIL\n",
        "image_path = 'leukemia_dataset/Original/Benign/WBC-Benign-001.jpg'  # Exemplo de uma imagem\n",
        "image = Image.open(image_path)\n",
        "image_rgb = np.array(image)\n",
        "segmented_image_yuv = adaptive_threshold_segmentation_yuv(image_rgb)\n",
        "\n",
        "# Exibir a imagem original e a segmentada\n",
        "plt.figure(figsize=(10, 5))\n",
        "plt.subplot(1, 2, 1)\n",
        "plt.imshow(image_rgb)\n",
        "plt.title('Imagem Original')\n",
        "plt.axis('off')\n",
        "\n",
        "plt.subplot(1, 2, 2)\n",
        "plt.imshow(segmented_image_yuv, cmap='gray')\n",
        "plt.title('Imagem Segmentada (YUV)')\n",
        "plt.axis('off')\n",
        "\n",
        "plt.show()"
      ],
      "metadata": {
        "id": "nw5v4bJ6NxY_"
      },
      "execution_count": null,
      "outputs": []
    },
    {
      "cell_type": "code",
      "source": [
        "from pathlib import Path\n",
        "import cv2  # cv2 para gravacao da imagem segmentada.\n",
        "# Função para processar e salvar as imagens segmentadas\n",
        "def process_and_save_images(input_dir, output_dir_hsv, output_dir_yuv):\n",
        "    # Verificar se os diretórios de saída existem, se não, criar\n",
        "    Path(output_dir_hsv).mkdir(parents=True, exist_ok=True)\n",
        "    Path(output_dir_yuv).mkdir(parents=True, exist_ok=True)\n",
        "\n",
        "    # Iterar por todas as imagens no diretório de entrada\n",
        "    for filename in os.listdir(input_dir):\n",
        "        if filename.endswith(\".jpg\") or filename.endswith(\".png\"):\n",
        "            image_path = os.path.join(input_dir, filename)\n",
        "            # image = cv2.imread(image_path)\n",
        "            # image_rgb = cv2.cvtColor(image, cv2.COLOR_BGR2RGB)\n",
        "            image = Image.open(image_path)\n",
        "            image_rgb = np.array(image)\n",
        "\n",
        "            # Segmentar a imagem em HSV\n",
        "            segmented_hsv = adaptive_threshold_segmentation_hsv(image_rgb)\n",
        "            segmented_hsv_path = os.path.join(output_dir_hsv, filename)\n",
        "            # Usa CV2 para gravar imagem segmentada com HSV no diretorio\n",
        "            cv2.imwrite(segmented_hsv_path, segmented_hsv)\n",
        "\n",
        "            # Segmentar a imagem em YUV\n",
        "            segmented_yuv = adaptive_threshold_segmentation_yuv(image_rgb)\n",
        "            segmented_yuv_path = os.path.join(output_dir_yuv, filename)\n",
        "            # Usa CV2 para gravar imagem segmentada com YUV no diretorio\n",
        "            cv2.imwrite(segmented_yuv_path, segmented_yuv)\n",
        "\n",
        "            print(f\"Processado e salvo: {filename}\")\n",
        "\n",
        "# Definir os caminhos para o diretório de entrada e os diretórios de saída\n",
        "input_dir = 'leukemia_dataset/Original/Benign'\n",
        "output_dir_hsv = 'leukemia_dataset/Segmented_HSV/Benign'\n",
        "output_dir_yuv = 'leukemia_dataset/Segmented_YUV/Benign'\n",
        "\n",
        "# Processar as imagens e salvar nos novos diretórios\n",
        "process_and_save_images(input_dir, output_dir_hsv, output_dir_yuv)\n",
        "\n",
        "# Definir os caminhos para o diretório de entrada e os diretórios de saída\n",
        "input_dir = 'leukemia_dataset/Original/Early'\n",
        "output_dir_hsv = 'leukemia_dataset/Segmented_HSV/Early'\n",
        "output_dir_yuv = 'leukemia_dataset/Segmented_YUV/Early'\n",
        "\n",
        "# Processar as imagens e salvar nos novos diretórios\n",
        "process_and_save_images(input_dir, output_dir_hsv, output_dir_yuv)\n",
        "\n",
        "# Definir os caminhos para o diretório de entrada e os diretórios de saída\n",
        "input_dir = 'leukemia_dataset/Original/Pre'\n",
        "output_dir_hsv = 'leukemia_dataset/Segmented_HSV/Pre'\n",
        "output_dir_yuv = 'leukemia_dataset/Segmented_YUV/Pre'\n",
        "\n",
        "# Processar as imagens e salvar nos novos diretórios\n",
        "process_and_save_images(input_dir, output_dir_hsv, output_dir_yuv)\n",
        "\n",
        "# Definir os caminhos para o diretório de entrada e os diretórios de saída\n",
        "input_dir = 'leukemia_dataset/Original/Pre'\n",
        "output_dir_hsv = 'leukemia_dataset/Segmented_HSV/Pro'\n",
        "output_dir_yuv = 'leukemia_dataset/Segmented_YUV/Pro'\n",
        "\n",
        "# Processar as imagens e salvar nos novos diretórios\n",
        "process_and_save_images(input_dir, output_dir_hsv, output_dir_yuv)"
      ],
      "metadata": {
        "id": "64U-dffpTcmP"
      },
      "execution_count": null,
      "outputs": []
    },
    {
      "cell_type": "markdown",
      "source": [
        "* Passo 4: Extração de Características Baseada em Textura (GLCM)\n",
        "\n",
        "    Agora, vamos extrair as características de textura da imagem segmentada utilizando a matriz de coocorrência de níveis de cinza (GLCM)."
      ],
      "metadata": {
        "id": "XzVp8tZbvrQA"
      }
    },
    {
      "cell_type": "code",
      "source": [
        "# Função para calcular a GLCM e extrair propriedades de textura\n",
        "def extract_texture_features(segmented_image):\n",
        "    # Converter a imagem segmentada para escala de cinza (necessário para GLCM)\n",
        "    # gray_image = rgb2gray(segmented_image) #This line is not needed since the image is already grayscale\n",
        "    gray_image = img_as_ubyte(segmented_image)  # Converter para 8 bits\n",
        "\n",
        "    # Calcular a matriz de coocorrência de níveis de cinza (GLCM)\n",
        "    glcm = graycomatrix(gray_image, distances=[1], angles=[0], levels=256, symmetric=True, normed=True) #Corrected function name to graycomatrix\n",
        "\n",
        "    # Extrair propriedades de textura\n",
        "    contrast = graycoprops(glcm, 'contrast')[0, 0] #Corrected function name to graycoprops\n",
        "    correlation = graycoprops(glcm, 'correlation')[0, 0] #Corrected function name to graycoprops\n",
        "    energy = graycoprops(glcm, 'energy')[0, 0] #Corrected function name to graycoprops\n",
        "    homogeneity = graycoprops(glcm, 'homogeneity')[0, 0] #Corrected function name to graycoprops\n",
        "\n",
        "    # Exibir as propriedades extraídas\n",
        "    print(f'Contraste: {contrast}')\n",
        "    print(f'Correlação: {correlation}')\n",
        "    print(f'Energia: {energy}')\n",
        "    print(f'Homogeneidade: {homogeneity}')\n",
        "\n",
        "    return contrast, correlation, energy, homogeneity\n",
        "\n",
        "# Extrair características de textura\n",
        "texture_features = extract_texture_features(segmented_image)\n"
      ],
      "metadata": {
        "id": "C16la8JWvg42"
      },
      "execution_count": null,
      "outputs": []
    },
    {
      "cell_type": "markdown",
      "source": [
        "* Passo 5: Avaliação e Métricas\n",
        "    \n",
        "    Após a segmentação e extração de características, vamos avaliar o desempenho usando métricas como IoU e F1-score."
      ],
      "metadata": {
        "id": "ORbadZqRvxm7"
      }
    },
    {
      "cell_type": "code",
      "execution_count": null,
      "metadata": {
        "id": "UgFtYNSv7G33",
        "colab": {
          "base_uri": "https://localhost:8080/"
        },
        "outputId": "a1bc699f-d0a7-44f8-fd6b-cee3457effbe"
      },
      "outputs": [
        {
          "output_type": "stream",
          "name": "stdout",
          "text": [
            "IoU (Jaccard): 0.10373955125384954\n",
            "F1-score: 0.18797831632653061\n"
          ]
        },
        {
          "output_type": "execute_result",
          "data": {
            "text/plain": [
              "(0.10373955125384954, 0.18797831632653061)"
            ]
          },
          "metadata": {},
          "execution_count": 7
        }
      ],
      "source": [
        "from sklearn.metrics import f1_score, jaccard_score\n",
        "\n",
        "# Função para calcular o IoU e o F1-score\n",
        "def evaluate_segmentation(segmented_image, ground_truth):\n",
        "    # Achatar as imagens segmentada e a verdade de solo\n",
        "    segmented_flat = segmented_image.flatten()\n",
        "    ground_truth_flat = ground_truth.flatten()\n",
        "\n",
        "    # Calcular o IoU (Jaccard)\n",
        "    iou = jaccard_score(ground_truth_flat, segmented_flat, average='micro')\n",
        "\n",
        "    # Calcular o F1-score\n",
        "    f1 = f1_score(ground_truth_flat, segmented_flat, average='micro')\n",
        "\n",
        "    print(f'IoU (Jaccard): {iou}')\n",
        "    print(f'F1-score: {f1}')\n",
        "\n",
        "    return iou, f1\n",
        "\n",
        "# Exemplo de uma imagem de verdade de solo (ground truth)\n",
        "ground_truth_path = 'leukemia_dataset/Segmented/Benign/WBC-Benign-001.jpg'\n",
        "ground_truth = cv2.imread(ground_truth_path, cv2.IMREAD_GRAYSCALE)\n",
        "\n",
        "# Avaliar a segmentação\n",
        "evaluate_segmentation(segmented_image, ground_truth)\n"
      ]
    },
    {
      "cell_type": "markdown",
      "source": [
        "* Passo6:  Leitura e Organização dos Arquivos\n",
        "  \n",
        "  Preparação do Arquivo com Rótulos das Segmentações.\n",
        "  \n",
        "  Vamos organizar a leitura das imagens e os rótulos a partir do CSV e da estrutura de diretórios.\n",
        "\n",
        "  Estrutura de Diretórios:\n",
        "    * leukemia_dataset/Segmented/Benign\n",
        "    * leukemia_dataset/Segmented/Early\n",
        "    * leukemia_dataset/Segmented/Pre\n",
        "    * leukemia_dataset/Segmented/Pro\n",
        "\n",
        "  Cada subdiretório contém imagens de um tipo específico de célula, e usaremos isso para a rotulagem."
      ],
      "metadata": {
        "id": "sFLmAntZQ5pQ"
      }
    },
    {
      "cell_type": "code",
      "source": [
        "import os\n",
        "import pandas as pd\n",
        "from sklearn.model_selection import train_test_split\n",
        "\n",
        "# Definir o caminho para o dataset segmentado\n",
        "dataset_dir = 'leukemia_dataset/Segmented/'\n",
        "\n",
        "# Subdiretórios de imagens segmentadas\n",
        "categories = ['Benign', 'Early', 'Pre', 'Pro']\n",
        "\n",
        "# Função para carregar as imagens e seus rótulos\n",
        "def load_dataset(directory, categories):\n",
        "    data = []\n",
        "\n",
        "    for category in categories:\n",
        "        category_path = os.path.join(directory, category)\n",
        "        label = category  # O rótulo será o nome da categoria\n",
        "\n",
        "        for filename in os.listdir(category_path):\n",
        "            img_path = os.path.join(category_path, filename)\n",
        "\n",
        "            # Adicionar a imagem e o rótulo na lista\n",
        "            data.append({'filename': img_path, 'label': label})\n",
        "\n",
        "    return pd.DataFrame(data)\n",
        "\n",
        "# Carregar o dataset\n",
        "df = load_dataset(dataset_dir, categories)\n",
        "\n",
        "# Visualizar os primeiros registros\n",
        "print(df.head())\n"
      ],
      "metadata": {
        "id": "8ymQMKN3RDrS"
      },
      "execution_count": null,
      "outputs": []
    },
    {
      "cell_type": "markdown",
      "source": [
        "* Passo 7: Separar o Dataset em Conjunto de Treinamento e Teste"
      ],
      "metadata": {
        "id": "Xn6YNNpucKRN"
      }
    },
    {
      "cell_type": "code",
      "source": [
        "# Dividir o dataset em treinamento e teste\n",
        "train_df, test_df = train_test_split(df, test_size=0.3, stratify=df['label'], random_state=42)\n",
        "\n",
        "# Exibir o número de amostras em cada conjunto\n",
        "print(f\"Número de amostras de treinamento: {len(train_df)}\")\n",
        "print(f\"Número de amostras de teste: {len(test_df)}\")\n"
      ],
      "metadata": {
        "id": "HEL4KqklZCdE"
      },
      "execution_count": null,
      "outputs": []
    },
    {
      "cell_type": "markdown",
      "source": [
        "* Passo 8: Segmentação e Extração de Características\n",
        "\n",
        "  Vamos aplicar a segmentação por limiarização adaptativa nas imagens e, em seguida, extrair as características usando a GLCM.\n",
        "\n",
        "  Utilizamos funções criadas nos passos anteriores."
      ],
      "metadata": {
        "id": "p63O2QxYcQiV"
      }
    },
    {
      "cell_type": "code",
      "source": [
        "import cv2\n",
        "import numpy as np\n",
        "from skimage.color import rgb2gray\n",
        "from skimage import img_as_ubyte\n",
        "\n",
        "\n",
        "# Função para segmentar e extrair características GLCM\n",
        "def process_image(image_path):\n",
        "    # Carregar a imagem\n",
        "    image = cv2.imread(image_path)\n",
        "    image_rgb = cv2.cvtColor(image, cv2.COLOR_BGR2RGB)\n",
        "\n",
        "    # Segmentação por limiarização adaptativa no canal V (brilho) do HSV\n",
        "    segmented_image = adaptive_threshold_segmentation(image_rgb)\n",
        "\n",
        "    # Converter para escala de cinza (se necessário)\n",
        "    # Calcular a matriz de coocorrência de níveis de cinza (GLCM)\n",
        "    # Extrair propriedades de textura\n",
        "    return extract_texture_features(segmented_image)\n",
        "\n",
        "# Processar todas as imagens de treinamento e extrair características\n",
        "train_features = []\n",
        "train_labels = []\n",
        "\n",
        "for index, row in train_df.iterrows():\n",
        "    features = process_image(row['filename'])\n",
        "    train_features.append(features)\n",
        "    train_labels.append(row['label'])\n",
        "\n",
        "# Converter para arrays numpy\n",
        "X_train = np.array(train_features)\n",
        "y_train = np.array(train_labels)\n"
      ],
      "metadata": {
        "id": "84XTr9_OZGiW"
      },
      "execution_count": null,
      "outputs": []
    },
    {
      "cell_type": "markdown",
      "source": [
        "* Passo 9: Treinamento do Classificador\n",
        "\n",
        "  Agora, vamos treinar um classificador utilizando as características extraídas das imagens segmentadas.\n",
        "  \n",
        "  Para isso, utilizaremos um Random Forest Classifier como exemplo."
      ],
      "metadata": {
        "id": "Hu7_WibIL6pI"
      }
    },
    {
      "cell_type": "code",
      "source": [
        "from sklearn.ensemble import RandomForestClassifier\n",
        "from sklearn.metrics import classification_report\n",
        "\n",
        "# Treinar o classificador\n",
        "clf = RandomForestClassifier(n_estimators=100, random_state=42)\n",
        "clf.fit(X_train, y_train)\n",
        "\n",
        "# Extrair características das imagens de teste\n",
        "test_features = []\n",
        "test_labels = []\n",
        "\n",
        "for index, row in test_df.iterrows():\n",
        "    features = process_image(row['filename'])\n",
        "    test_features.append(features)\n",
        "    test_labels.append(row['label'])\n",
        "\n",
        "X_test = np.array(test_features)\n",
        "y_test = np.array(test_labels)\n",
        "\n",
        "# Fazer previsões no conjunto de teste\n",
        "y_pred = clf.predict(X_test)\n",
        "\n",
        "# Exibir o relatório de classificação\n",
        "print(classification_report(y_test, y_pred))"
      ],
      "metadata": {
        "id": "buO8VMwiMBV_"
      },
      "execution_count": null,
      "outputs": []
    },
    {
      "cell_type": "markdown",
      "source": [
        "* Conclusão etapa 1\n",
        "  \n",
        "  Segmentação:\n",
        "\n",
        "    Utilizamos segmentação adaptativa para separar as células do fundo em imagens de sangue periférico.\n",
        "\n",
        "    Extração de Características: Utilizamos GLCM para extrair características texturais das imagens segmentadas.\n",
        "\n",
        "    Classificação: Usamos um classificador Random Forest para diferenciar entre células benignas e malignas.\n",
        "\n",
        "* Possíveis Melhorias:\n",
        "  \n",
        "  Podemos ajustar o classificador, adicionar novas métricas ou testar outros algoritmos para melhorar a precisão.\n",
        "\n",
        "  * Adotaremos o Ajustes do classificador e novas Métricas.\n",
        "\n",
        "  * Ajuste do Classificador: Ajustaremos os hiperparâmetros do Random Forest para melhorar o desempenho. Usamos GridSearchCV para encontrar os melhores parâmetros do Random Forest, ajustando hiperparâmetros como n_estimators (número de árvores), max_depth (profundidade máxima das árvores), e min_samples_split (número mínimo de amostras para dividir um nó).\n",
        "\n",
        "  * Adição de Novas Métricas: Além do relatório de classificação, vamos adicionar métricas como matriz de confusão, curva ROC e AUC (Área sob a curva ROC) para uma avaliação mais completa.\n",
        "\n",
        "    * Relatório de Classificação: Fornece as métricas de precisão, recall e F1-score para cada classe.\n",
        "    * Matriz de Confusão: Fornece uma visualização clara de quantas predições foram corretas (diagonal) e quantas foram incorretas (fora da diagonal).\n",
        "    * Curva ROC e AUC: A curva ROC é uma métrica importante que mostra a relação entre a taxa de verdadeiros positivos e falsos positivos. O AUC (Área sob a curva ROC) é uma métrica que varia entre 0 e 1, com valores mais próximos de 1 indicando um melhor desempenho.\n",
        "\n",
        "* Conclusão após as melhorias\n",
        "\n",
        "  Random Forest Ajustado: O ajuste do classificador deve resultar em uma melhoria de desempenho.\n",
        "\n",
        "  Novas Métricas: A adição de novas métricas (matriz de confusão, curva ROC e AUC) nos permite uma avaliação mais robusta e visual do modelo.\n",
        "\n",
        "* Ajuste do Classificador (Random Forest)\n",
        "  \n",
        "  Vamos ajustar alguns hiperparâmetros do Random Forest, como o número de estimadores e a profundidade máxima, para tentar melhorar o desempenho do classificador."
      ],
      "metadata": {
        "id": "sQIcOjruvMjj"
      }
    },
    {
      "cell_type": "code",
      "source": [
        "from sklearn.model_selection import GridSearchCV\n",
        "\n",
        "# Definir os parâmetros para ajuste\n",
        "param_grid = {\n",
        "    'n_estimators': [50, 100, 200],\n",
        "    'max_depth': [None, 10, 20, 30],\n",
        "    'min_samples_split': [2, 5, 10],\n",
        "    'min_samples_leaf': [1, 2, 4],\n",
        "    'bootstrap': [True, False]\n",
        "}\n",
        "\n",
        "# Configurar o modelo Random Forest\n",
        "rf = RandomForestClassifier(random_state=42)\n",
        "\n",
        "# Configurar o GridSearch para procurar a melhor combinação de parâmetros\n",
        "grid_search = GridSearchCV(estimator=rf, param_grid=param_grid, cv=5, n_jobs=-1, verbose=2)\n",
        "\n",
        "# Realizar o ajuste com os dados de treinamento\n",
        "grid_search.fit(X_train, y_train)\n",
        "\n",
        "# Exibir os melhores parâmetros\n",
        "print(f\"Melhores parâmetros: {grid_search.best_params_}\")\n",
        "\n",
        "# Treinar o modelo com os melhores parâmetros\n",
        "best_rf = grid_search.best_estimator_\n"
      ],
      "metadata": {
        "id": "-C1c0RRadCjF"
      },
      "execution_count": null,
      "outputs": []
    },
    {
      "cell_type": "markdown",
      "source": [
        "* Previsão e Avaliação com Novas Métricas\n",
        "\n",
        "  Agora, utilizaremos o modelo ajustado para fazer as previsões e, em seguida, adicionar métricas como matriz de confusão, curva ROC, e AUC"
      ],
      "metadata": {
        "id": "Z3RgLU1kfAC3"
      }
    },
    {
      "cell_type": "code",
      "source": [
        "from sklearn.metrics import confusion_matrix, roc_curve, auc, roc_auc_score\n",
        "import seaborn as sns\n",
        "import matplotlib.pyplot as plt\n",
        "\n",
        "# Fazer as previsões no conjunto de teste com o modelo ajustado\n",
        "y_pred = best_rf.predict(X_test)\n",
        "y_prob = best_rf.predict_proba(X_test)[:, 1]  # Para curva ROC e AUC # Removed [:, 1] to keep all probabilities\n",
        "\n",
        "# 1. Relatório de Classificação\n",
        "print(\"Relatório de Classificação:\")\n",
        "print(classification_report(y_test, y_pred))\n",
        "\n",
        "# 2. Matriz de Confusão\n",
        "conf_matrix = confusion_matrix(y_test, y_pred)\n",
        "plt.figure(figsize=(8, 6))\n",
        "sns.heatmap(conf_matrix, annot=True, fmt='d', cmap='Blues')\n",
        "plt.title(\"Matriz de Confusão\")\n",
        "plt.xlabel(\"Predito\")\n",
        "plt.ylabel(\"Verdadeiro\")\n",
        "plt.show()\n",
        "\n",
        "# 3. Curva ROC e AUC\n",
        "fpr, tpr, thresholds = roc_curve(y_test, y_prob, pos_label='Malignant')  # Assumindo 'Malignant' como a classe positiva\n",
        "roc_auc = auc(fpr, tpr)\n",
        "\n",
        "plt.figure(figsize=(8, 6))\n",
        "plt.plot(fpr, tpr, color='blue', lw=2, label=f'ROC curve (AUC = {roc_auc:.2f})')\n",
        "plt.plot([0, 1], [0, 1], color='gray', linestyle='--')\n",
        "plt.xlim([0.0, 1.0])\n",
        "plt.ylim([0.0, 1.05])\n",
        "plt.xlabel('False Positive Rate')\n",
        "plt.ylabel('True Positive Rate')\n",
        "plt.title('Curva ROC')\n",
        "plt.legend(loc=\"lower right\")\n",
        "plt.show()\n",
        "\n",
        "# Exibir o valor da AUC\n",
        "#print(f\"Área sob a curva ROC (AUC): {roc_auc_score(y_test, y_prob, multi_class='ovr')}\") # Added multi_class='ovr'"
      ],
      "metadata": {
        "id": "d36P1H7zfHiE"
      },
      "execution_count": null,
      "outputs": []
    },
    {
      "cell_type": "markdown",
      "source": [
        "# Exercicio 2"
      ],
      "metadata": {
        "id": "4_hpCB1blJCs"
      }
    },
    {
      "cell_type": "markdown",
      "source": [
        "# Exercicio 3"
      ],
      "metadata": {
        "id": "pRZFkFcmlN2k"
      }
    },
    {
      "cell_type": "markdown",
      "source": [
        "# Exercicio 4"
      ],
      "metadata": {
        "id": "BGxaJnHllZKc"
      }
    },
    {
      "cell_type": "markdown",
      "source": [
        "# Exercicio 5"
      ],
      "metadata": {
        "id": "0ux6sjd5la1T"
      }
    },
    {
      "cell_type": "markdown",
      "source": [
        "# Exercicio 6"
      ],
      "metadata": {
        "id": "qfreSzAolcVr"
      }
    },
    {
      "cell_type": "markdown",
      "source": [
        "# Exercicio 7"
      ],
      "metadata": {
        "id": "k0KsfQxBld2N"
      }
    },
    {
      "cell_type": "markdown",
      "source": [
        "# Exercicio 8"
      ],
      "metadata": {
        "id": "6G2JWkSWlfqm"
      }
    },
    {
      "cell_type": "markdown",
      "source": [
        "# Exercicio 9"
      ],
      "metadata": {
        "id": "uGDNy3lDlg-8"
      }
    },
    {
      "cell_type": "markdown",
      "source": [
        "# Exercicio 10"
      ],
      "metadata": {
        "id": "Ge7JP13bliq7"
      }
    }
  ]
}